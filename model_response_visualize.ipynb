{
 "cells": [
  {
   "cell_type": "code",
   "execution_count": 1,
   "metadata": {},
   "outputs": [],
   "source": [
    "import json\n",
    "import ipywidgets as widgets\n",
    "from IPython.display import display, Image\n",
    "import os\n",
    "from Qwen2VL.processing_qwen2_vl import Qwen2VLProcessor\n",
    "from qwen_vl_utils import process_vision_info\n",
    "import ast  # To safely evaluate JSON-like strings\n",
    "from PIL import Image, ImageDraw\n",
    "import io"
   ]
  },
  {
   "cell_type": "code",
   "execution_count": 2,
   "metadata": {},
   "outputs": [],
   "source": [
    "def draw_click_point(img_path, click_x, click_y, bbox):\n",
    "    if os.path.exists(img_path):\n",
    "        img = Image.open(img_path)\n",
    "        w, h = img.size  # Get image dimensions\n",
    "        \n",
    "        # Convert relative to absolute coordinates\n",
    "        abs_x = int(click_x * w)\n",
    "        abs_y = int(click_y * h)\n",
    "        \n",
    "        # Draw the click point (dot)\n",
    "        draw = ImageDraw.Draw(img)\n",
    "        dot_radius = 10  # Adjust dot size if needed\n",
    "        draw.ellipse(\n",
    "            (abs_x - dot_radius, abs_y - dot_radius, abs_x + dot_radius, abs_y + dot_radius),\n",
    "            fill=\"red\"\n",
    "        )\n",
    "\n",
    "        # Draw the bounding box if provided\n",
    "        if bbox:\n",
    "            bbox_x = bbox.get(\"x\", 0)\n",
    "            bbox_y = bbox.get(\"y\", 0)\n",
    "            bbox_w = bbox.get(\"width\", 0)\n",
    "            bbox_h = bbox.get(\"height\", 0)\n",
    "            bbox_coords = [(bbox_x, bbox_y), (bbox_x + bbox_w, bbox_y + bbox_h)]\n",
    "            draw.rectangle(bbox_coords, outline=\"blue\", width=3)  # Blue bounding box\n",
    "\n",
    "        # Write image to a bytes buffer instead of saving to disk\n",
    "        buffer = io.BytesIO()\n",
    "        img.save(buffer, format=\"PNG\")\n",
    "        image_data = buffer.getvalue()\n",
    "        buffer.close()\n",
    "        return image_data\n",
    "    else:\n",
    "        return None"
   ]
  },
  {
   "cell_type": "code",
   "execution_count": 3,
   "metadata": {},
   "outputs": [],
   "source": [
    "# Load JSON file\n",
    "# json_file = \"/home/syc/intern/wanshan/Qwen2-VL/agent_tasks/Qwen2-VL-2B/qwen2vl_mind2web_website.json\"  # Change this to your JSON file path\n",
    "json_file = \"/home/syc/intern/wanshan/Qwen2-VL/agent_tasks/qwen2vl_resampler_keep_0.8_website.json\"\n",
    "with open(json_file, \"r\", encoding=\"utf-8\") as f:\n",
    "    data = json.load(f)\n",
    "# Filter instances where Ele_match is False\n",
    "filtered_data = [\n",
    "    [step for step in episode] \n",
    "    for episode in data\n",
    "]\n",
    "\n",
    "# Initialize index\n",
    "episode_index = 0\n",
    "step_index = 0"
   ]
  },
  {
   "cell_type": "code",
   "execution_count": 4,
   "metadata": {},
   "outputs": [],
   "source": [
    "ground_truth_json_path = \"/data/data1/syc/intern/wanshan/mind2map_dataset/mind2web_data_test_website.json\"\n",
    "with open(ground_truth_json_path, \"r\", encoding=\"utf-8\") as f:\n",
    "    data = json.load(f)\n",
    "# Filter instances where Ele_match is False\n",
    "ground_truth_data = [\n",
    "    [step for step in episode['actions']] \n",
    "    for episode in data\n",
    "]"
   ]
  },
  {
   "cell_type": "code",
   "execution_count": 5,
   "metadata": {},
   "outputs": [],
   "source": [
    "navigation_sequence  = []\n",
    "for episode_idx, episode in enumerate(filtered_data):\n",
    "    for step_idx, step in enumerate(episode):\n",
    "        if step['Ele_match'] == False: # visualize Element mismatched\n",
    "            navigation_sequence.append((episode_idx, step_idx))\n",
    "sequence_index = 0"
   ]
  },
  {
   "cell_type": "code",
   "execution_count": 6,
   "metadata": {},
   "outputs": [
    {
     "data": {
      "text/plain": [
       "928"
      ]
     },
     "execution_count": 6,
     "metadata": {},
     "output_type": "execute_result"
    }
   ],
   "source": [
    "len(navigation_sequence)"
   ]
  },
  {
   "cell_type": "code",
   "execution_count": 12,
   "metadata": {},
   "outputs": [
    {
     "data": {
      "application/vnd.jupyter.widget-view+json": {
       "model_id": "94360aa5964c4d86b239f23e27bc613f",
       "version_major": 2,
       "version_minor": 0
      },
      "text/plain": [
       "HTML(value='**Action(s):** {\\'annot_id\\': \\'a6cb6d95-26cb-43c4-8c70-ffd37fb2818a\\', \\'img_path\\': \\'/data/data…"
      ]
     },
     "metadata": {},
     "output_type": "display_data"
    },
    {
     "data": {
      "application/vnd.jupyter.widget-view+json": {
       "model_id": "a9b49f80586d4daaa383a4db64c1b592",
       "version_major": 2,
       "version_minor": 0
      },
      "text/plain": [
       "Image(value=b'\\x89PNG\\r\\n\\x1a\\n\\x00\\x00\\x00\\rIHDR\\x00\\x00\\x05\\x00\\x00\\x00\\x02\\xd0\\x08\\x02\\x00\\x00\\x00@\\x1fJ\\x0…"
      ]
     },
     "metadata": {},
     "output_type": "display_data"
    },
    {
     "data": {
      "application/vnd.jupyter.widget-view+json": {
       "model_id": "58a4c9377f114bc7aeac078ced0af24f",
       "version_major": 2,
       "version_minor": 0
      },
      "text/plain": [
       "Button(description='Next Step', style=ButtonStyle())"
      ]
     },
     "metadata": {},
     "output_type": "display_data"
    }
   ],
   "source": [
    "# Function to update display\n",
    "def update_display():\n",
    "    global sequence_index\n",
    "    \n",
    "    if sequence_index < len(navigation_sequence):\n",
    "        episode_index, step_index = navigation_sequence[sequence_index]\n",
    "        episode = filtered_data[episode_index]\n",
    "        episode_ref = ground_truth_data[episode_index]\n",
    "        if step_index < len(episode):\n",
    "            step = episode[step_index]\n",
    "            step_ref = episode_ref[step_index]\n",
    "            \n",
    "            # Extract sentence (convert list of JSON strings into readable text)\n",
    "            # sentence_text = \"\\n\".join(step[\"sentence\"])\n",
    "            \n",
    "            # Update instruction and sentence\n",
    "            # instruction_label.value = f\"**Instruction:** {step['instruction']}\"\n",
    "            sentence_label.value = f\"**Action(s):** {step}\"\n",
    "            # Extract click coordinates\n",
    "            try:\n",
    "                action_data = ast.literal_eval(step[\"sentence\"][0])  # Convert string to dict\n",
    "                click_x, click_y = action_data.get(\"click_point\", (0, 0))\n",
    "                # uigraph_click_y += 0.02\n",
    "            except Exception as e:\n",
    "                click_x, click_y = 0, 0  # Default to top-left corner on error\n",
    "\n",
    "            # get bbox from groundtruth\n",
    "            try:\n",
    "                bbox = step_ref['bbox']\n",
    "            except:\n",
    "                print('no bbox exist')\n",
    "                return\n",
    "            \n",
    "            # Load and update image\n",
    "            img_path = step[\"img_path\"]\n",
    "            \n",
    "            image = draw_click_point(img_path, click_x, click_y, bbox)\n",
    "\n",
    "            if os.path.exists(img_path):\n",
    "                image_widget.value = image\n",
    "            else:\n",
    "                sentence_label.value += f\"\\n(Error: Image not found at {img_path})\"\n",
    "        else:\n",
    "            sentence_label.value = \"No more steps in this episode.\"\n",
    "            image_widget.value = b\"\"\n",
    "    else:\n",
    "        # instruction_label.value = \"No more episodes.\"\n",
    "        sentence_label.value = \"\"\n",
    "        image_widget.value = b\"\"\n",
    "\n",
    "# Next button function\n",
    "def next_step(_):\n",
    "    global sequence_index\n",
    "    \n",
    "    # Move to the next item in the navigation sequence\n",
    "    if sequence_index < len(navigation_sequence) - 1:\n",
    "        sequence_index += 1\n",
    "        update_display()\n",
    "\n",
    "\n",
    "    update_display()\n",
    "\n",
    "# Widgets\n",
    "# instruction_label = widgets.HTML()\n",
    "sentence_label = widgets.HTML()\n",
    "image_widget = widgets.Image(format='png', width=800)  # Set Image Size\n",
    "\n",
    "next_button = widgets.Button(description=\"Next Step\")\n",
    "next_button.on_click(next_step)\n",
    "\n",
    "# Initial display\n",
    "update_display()\n",
    "\n",
    "# Layout\n",
    "display(sentence_label,  image_widget, next_button)"
   ]
  },
  {
   "cell_type": "code",
   "execution_count": null,
   "metadata": {},
   "outputs": [],
   "source": []
  }
 ],
 "metadata": {
  "kernelspec": {
   "display_name": "qwen2vl",
   "language": "python",
   "name": "python3"
  },
  "language_info": {
   "codemirror_mode": {
    "name": "ipython",
    "version": 3
   },
   "file_extension": ".py",
   "mimetype": "text/x-python",
   "name": "python",
   "nbconvert_exporter": "python",
   "pygments_lexer": "ipython3",
   "version": "3.10.0"
  }
 },
 "nbformat": 4,
 "nbformat_minor": 2
}
