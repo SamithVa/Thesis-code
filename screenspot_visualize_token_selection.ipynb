{
 "cells": [
  {
   "cell_type": "code",
   "execution_count": 1,
   "metadata": {},
   "outputs": [],
   "source": [
    "import json\n",
    "import ipywidgets as widgets\n",
    "from IPython.display import display, Image\n",
    "import os\n",
    "# from Qwen2VL_uigraph.model.processing_qwen2_vl import Qwen2VLProcessor\n",
    "from qwen_vl_utils import process_vision_info\n",
    "import ast  # To safely evaluate JSON-like strings\n",
    "from PIL import Image, ImageDraw, ImageFont\n",
    "import io"
   ]
  },
  {
   "cell_type": "code",
   "execution_count": 2,
   "metadata": {},
   "outputs": [],
   "source": [
    "def draw_click_point(\n",
    "    img_path: str,\n",
    "    naive_x: float, naive_y: float,\n",
    "    uigraph_x: float, uigraph_y: float,\n",
    "    bbox: list,\n",
    "    instruction: str,\n",
    "    gap_between_text_and_image: int = 20\n",
    ") -> bytes:\n",
    "    \"\"\"\n",
    "    Draws a white instruction banner at the top, leaves a gap,\n",
    "    then the original image annotated with:\n",
    "      - Green rectangle for ground-truth bbox\n",
    "      - Blue dot for Naive prediction (naive_x, naive_y)\n",
    "      - Red dot for UI-Graph prediction (uigraph_x, uigraph_y)\n",
    "\n",
    "    Returns image bytes in PNG format.\n",
    "    \"\"\"\n",
    "    # 1) Load original image\n",
    "    image = Image.open(img_path).convert(\"RGB\")\n",
    "    width, height = image.size\n",
    "\n",
    "    # 2) Load a font that supports Chinese (fallback to default)\n",
    "    try:\n",
    "        font = ImageFont.truetype(\n",
    "            \"/usr/share/fonts/truetype/noto/NotoSansSC-Regular.otf\", size=30\n",
    "        )\n",
    "    except IOError:\n",
    "        font = ImageFont.load_default(size=30)\n",
    "\n",
    "    # 3) Measure instruction text size\n",
    "    tmp_draw = ImageDraw.Draw(image)\n",
    "    text_bbox = tmp_draw.textbbox((0, 0), instruction, font=font)\n",
    "    text_w = text_bbox[2] - text_bbox[0]\n",
    "    text_h = text_bbox[3] - text_bbox[1]\n",
    "\n",
    "    # 4) Compute padding for banner and gap\n",
    "    top_margin = 10\n",
    "    bottom_margin = gap_between_text_and_image\n",
    "    padding_top = text_h + top_margin + bottom_margin\n",
    "\n",
    "    # 5) Create new canvas and paste original image\n",
    "    new_img = Image.new(\"RGB\", (width, height + padding_top), \"white\")\n",
    "    new_img.paste(image, (0, padding_top))\n",
    "\n",
    "    draw = ImageDraw.Draw(new_img)\n",
    "\n",
    "    # 6) Draw instruction centered\n",
    "    x_text = (width - text_w) / 2\n",
    "    y_text = top_margin\n",
    "    draw.text((x_text, y_text), instruction, fill=\"black\", font=font)\n",
    "\n",
    "    # 7) Helper to convert relative coords to absolute\n",
    "    def to_abs(rx, ry):\n",
    "        return rx * width, padding_top + ry * height\n",
    "\n",
    "    nx, ny = to_abs(naive_x, naive_y)\n",
    "    ux, uy = to_abs(uigraph_x, uigraph_y)\n",
    "    bx0, by0 = to_abs(bbox[0], bbox[1])\n",
    "    bx1, by1 = to_abs(bbox[2], bbox[3])\n",
    "\n",
    "    # 8) Draw bounding box and dots\n",
    "    draw.rectangle([bx0, by0, bx1, by1], outline=\"green\", width=3)\n",
    "    r = 8\n",
    "    # Blue dot = Naive prediction\n",
    "    draw.ellipse([nx - r, ny - r, nx + r, ny + r], fill=\"blue\")\n",
    "    # Red dot = UI-Graph prediction\n",
    "    draw.ellipse([ux - r, uy - r, ux + r, uy + r], fill=\"red\")\n",
    "\n",
    "    # 9) Export to PNG bytes\n",
    "    with io.BytesIO() as out:\n",
    "        new_img.save(out, format=\"PNG\")\n",
    "        return out.getvalue()"
   ]
  },
  {
   "cell_type": "code",
   "execution_count": 3,
   "metadata": {},
   "outputs": [],
   "source": [
    "# Load JSON file\n",
    "naive_json_path = \"/home/syc/intern/wanshan/Qwen2-VL/agent_tasks/ScreenSpot/uigraph_prunelayer_0-04-24/screenspot_uigraph_qwen2vl-7b_max_pixels_1680_dropratio-0_web-prune-layer_0.json\"\n",
    "\n",
    "with open(naive_json_path, \"r\", encoding=\"utf-8\") as f:\n",
    "    naive_data = json.load(f)\n",
    "\n"
   ]
  },
  {
   "cell_type": "code",
   "execution_count": 25,
   "metadata": {},
   "outputs": [],
   "source": [
    "prune_json_path = \"/home/syc/intern/wanshan/Qwen2-VL/agent_tasks/ScreenSpot/uigraph_prunelayer_0-04-24/screenspot_uigraph_qwen2vl-7b_max_pixels_1680_dropratio-0.1_web-prune-layer_0.json\"\n",
    "with open(prune_json_path, \"r\", encoding=\"utf-8\") as f:\n",
    "    prune_data = json.load(f)\n",
    "# Filter instances where Ele_match is False\n"
   ]
  },
  {
   "cell_type": "code",
   "execution_count": 26,
   "metadata": {},
   "outputs": [
    {
     "data": {
      "text/plain": [
       "{'img_path': '/data/data1/syc/intern/wanshan/datasets/ScreenSpot/screenspot_imgs/web_213f816e-8e80-4d13-970d-1347bbc7a2a8.png',\n",
       " 'text': 'create a new project',\n",
       " 'bbox': [0.906640625, 0.08958333333333333, 0.987890625, 0.13819444444444445],\n",
       " 'pred': [0.95, 0.12],\n",
       " 'matched': True,\n",
       " 'response': '{\"action_type\": 4, \"click_point\": (0.95,0.12)}\\n',\n",
       " 'type': 'text',\n",
       " 'source': 'gitlab'}"
      ]
     },
     "execution_count": 26,
     "metadata": {},
     "output_type": "execute_result"
    }
   ],
   "source": [
    "prune_data[0]"
   ]
  },
  {
   "cell_type": "code",
   "execution_count": 27,
   "metadata": {},
   "outputs": [
    {
     "data": {
      "text/plain": [
       "[0.906640625, 0.08958333333333333, 0.987890625, 0.13819444444444445]"
      ]
     },
     "execution_count": 27,
     "metadata": {},
     "output_type": "execute_result"
    }
   ],
   "source": [
    "naive_data[0]['bbox']\n"
   ]
  },
  {
   "cell_type": "code",
   "execution_count": 28,
   "metadata": {},
   "outputs": [
    {
     "data": {
      "text/plain": [
       "(436, 436)"
      ]
     },
     "execution_count": 28,
     "metadata": {},
     "output_type": "execute_result"
    }
   ],
   "source": [
    "len(naive_data), len(prune_data)"
   ]
  },
  {
   "cell_type": "code",
   "execution_count": 29,
   "metadata": {},
   "outputs": [
    {
     "data": {
      "text/plain": [
       "17"
      ]
     },
     "execution_count": 29,
     "metadata": {},
     "output_type": "execute_result"
    }
   ],
   "source": [
    "mismatched_idxs  = []\n",
    "for sample_idx, sample in enumerate(naive_data):\n",
    "    if 'matched' in sample and 'matched' in prune_data[sample_idx]:\n",
    "        if sample['matched'] == True and prune_data[sample_idx]['matched'] == False:\n",
    "            mismatched_idxs.append(sample_idx)\n",
    "len(mismatched_idxs)"
   ]
  },
  {
   "cell_type": "code",
   "execution_count": 30,
   "metadata": {},
   "outputs": [],
   "source": [
    "for sample_idx in mismatched_idxs:\n",
    "    if naive_data[sample_idx]['img_path'] != prune_data[sample_idx]['img_path']:\n",
    "        print('mismatched image_path', naive_data[sample_idx]['img_path'])"
   ]
  },
  {
   "cell_type": "code",
   "execution_count": 31,
   "metadata": {},
   "outputs": [
    {
     "data": {
      "application/vnd.jupyter.widget-view+json": {
       "model_id": "8bf88834f54b4ba5bccaccdf4b49674a",
       "version_major": 2,
       "version_minor": 0
      },
      "text/plain": [
       "HTML(value='')"
      ]
     },
     "metadata": {},
     "output_type": "display_data"
    },
    {
     "data": {
      "application/vnd.jupyter.widget-view+json": {
       "model_id": "98ef6aab20c747ff83832b805a784b76",
       "version_major": 2,
       "version_minor": 0
      },
      "text/plain": [
       "Image(value=b'', width='1000')"
      ]
     },
     "metadata": {},
     "output_type": "display_data"
    },
    {
     "data": {
      "application/vnd.jupyter.widget-view+json": {
       "model_id": "25a93a7eb89240658523ca258cb15234",
       "version_major": 2,
       "version_minor": 0
      },
      "text/plain": [
       "HBox(children=(Button(description='Next Step', style=ButtonStyle()), Button(button_style='info', description='…"
      ]
     },
     "metadata": {},
     "output_type": "display_data"
    }
   ],
   "source": [
    "import os\n",
    "import shutil\n",
    "import ipywidgets as widgets\n",
    "from IPython.display import display\n",
    "\n",
    "# Assumes mismatched_idxs, naive_data, uigraph_data, load_visualize, draw_click_point are defined earlier\n",
    "\n",
    "# Directory to save annotated images\n",
    "save_dir = \"./saved_preds\"\n",
    "os.makedirs(save_dir, exist_ok=True)\n",
    "\n",
    "# Initialize sample index\n",
    "sample_idx = 0\n",
    "\n",
    "# Widgets for display\n",
    "sentence_label = widgets.HTML()\n",
    "image_widget = widgets.Image(format='png', width=1000)\n",
    "\n",
    "# Hold the latest generated image bytes for saving\n",
    "tcurrent_image_bytes = None\n",
    "\n",
    "# current image name, use later when save annotation\n",
    "current_image_name = None\n",
    "\n",
    "# Function to update display\n",
    "def update_display():\n",
    "    global sample_idx, current_image_bytes, current_image_name\n",
    "    if sample_idx < len(mismatched_idxs):\n",
    "        idx = mismatched_idxs[sample_idx]\n",
    "        naive_sample = naive_data[idx]\n",
    "        uigraph_sample = prune_data[idx]\n",
    "\n",
    "        # Show the user instruction or text\n",
    "        instruction = naive_sample.get('text', '')\n",
    "        sentence_label.value = f\"**Naive:** {naive_sample} <br> **UIGRAPH:**{uigraph_sample}\"\n",
    "\n",
    "        # Extract relative click coordinates\n",
    "        try:\n",
    "            nx, ny = naive_sample.get('pred', (0, 0)) # naive\n",
    "            px, py = uigraph_sample.get('pred', (0, 0)) # prune\n",
    "        except Exception:\n",
    "            nx = ny = px = py = 0\n",
    "\n",
    "        # Ground-truth bounding box\n",
    "        bbox = naive_sample.get('bbox', [0,0,0,0])\n",
    "        img_path = naive_sample.get('img_path', '')\n",
    "        current_image_name = os.path.basename(img_path)\n",
    "\n",
    "\n",
    "        # Draw both Naive (blue) and UI-Graph (red) predictions on one image\n",
    "        current_image_bytes = draw_click_point(\n",
    "            img_path,\n",
    "            nx, ny,\n",
    "            px, py,\n",
    "            bbox,\n",
    "            instruction\n",
    "        )\n",
    "\n",
    "        # Update the image widget\n",
    "        image_widget.value = current_image_bytes\n",
    "\n",
    "    else:\n",
    "        # No more samples\n",
    "        sentence_label.value = \"\"\n",
    "        image_widget.value = b\"\"\n",
    "\n",
    "# Button callbacks\n",
    "def next_step(_):\n",
    "    global sample_idx\n",
    "    if sample_idx < len(mismatched_idxs) - 1:\n",
    "        sample_idx += 1\n",
    "    update_display()\n",
    "\n",
    "def save_total_incorrect(_):\n",
    "    out_path = os.path.join(save_dir, f\"totally_incorrect-{current_image_name}\")\n",
    "    with open(out_path, \"wb\") as f:\n",
    "        f.write(current_image_bytes)\n",
    "    print(f\"Totally incorrect annotated image saved to {out_path}\")\n",
    "\n",
    "def save_position_incorrect(_):\n",
    "    out_path = os.path.join(save_dir, f\"position_incorrect-{current_image_name}\")\n",
    "    with open(out_path, \"wb\") as f:\n",
    "        f.write(current_image_bytes)\n",
    "    print(f\"Position incorrect annotated image saved to {out_path}\")\n",
    "\n",
    "# Create buttons\n",
    "next_button = widgets.Button(description=\"Next Step\")\n",
    "next_button.on_click(next_step)\n",
    "\n",
    "save_btn_total_inco = widgets.Button(description=\"Save Totally Incorrect\", button_style='info')\n",
    "save_btn_total_inco.on_click(save_total_incorrect)\n",
    "\n",
    "save_btn_position_inco = widgets.Button(description=\"Save Position Incorrect\", button_style='success')\n",
    "save_btn_position_inco.on_click(save_position_incorrect)\n",
    "\n",
    "# Layout\n",
    "controls = widgets.HBox([next_button, save_btn_total_inco, save_btn_position_inco])\n",
    "\n",
    "display(sentence_label, image_widget, controls)\n",
    "# Initial display\n",
    "update_display()"
   ]
  },
  {
   "cell_type": "code",
   "execution_count": null,
   "metadata": {},
   "outputs": [],
   "source": []
  }
 ],
 "metadata": {
  "kernelspec": {
   "display_name": "qwen2vl",
   "language": "python",
   "name": "python3"
  },
  "language_info": {
   "codemirror_mode": {
    "name": "ipython",
    "version": 3
   },
   "file_extension": ".py",
   "mimetype": "text/x-python",
   "name": "python",
   "nbconvert_exporter": "python",
   "pygments_lexer": "ipython3",
   "version": "3.10.0"
  }
 },
 "nbformat": 4,
 "nbformat_minor": 2
}
