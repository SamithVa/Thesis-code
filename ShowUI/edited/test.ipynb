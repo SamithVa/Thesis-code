{
 "cells": [
  {
   "cell_type": "code",
   "execution_count": 1,
   "metadata": {
    "ExecuteTime": {
     "end_time": "2025-03-06T02:42:05.704025Z",
     "start_time": "2025-03-06T02:42:04.655354Z"
    }
   },
   "outputs": [],
   "source": [
    "# from modeling_qwen2_vl import Qwen2VLForConditionalGeneration\n",
    "# from processing_qwen2_vl import Qwen2VLProcessor\n",
    "# from configuration_qwen2_vl import Qwen2VLConfig\n",
    "from transformers import Qwen2VLForConditionalGeneration, Qwen2VLProcessor\n",
    "from qwen_vl_utils import process_vision_info\n",
    "import time "
   ]
  },
  {
   "cell_type": "code",
   "execution_count": 2,
   "metadata": {},
   "outputs": [],
   "source": [
    "# model_path = \"/data/data1/syc/intern/wanshan/models/Qwen2-VL-2B-Instruct\"\n",
    "model_path = \"/data/data1/syc/intern/wanshan/models/showlab/ShowUI-2B_edited\"\n",
    "device = 'cuda:2'\n",
    "# uigraph_train = True        # Enable ui graph during training\n",
    "# uigraph_test = True         # Enable ui graph during inference\n",
    "# uigraph_diff = 1            # Pixel difference used for constructing ui graph\n",
    "# uigraph_rand = False        # Enable random graph construction \n",
    "# # 2. Graph -> Mask \n",
    "# uimask_pre = True           # Prebuild patch selection mask in the preprocessor (not in model layers) for efficiency\n",
    "# uimask_ratio = 0.5          # Specify the percentage of patch tokens to skip per component\n",
    "# uimask_rand = False         # Enable random token selection instead of uniform selection"
   ]
  },
  {
   "cell_type": "code",
   "execution_count": 3,
   "metadata": {},
   "outputs": [
    {
     "name": "stdout",
     "output_type": "stream",
     "text": [
      "(1, 23, 42)\n"
     ]
    }
   ],
   "source": [
    "min_pixel = 256*28*28\n",
    "max_pixel = 1000*28*28\n",
    "processor = Qwen2VLProcessor.from_pretrained(\n",
    "        model_path,\n",
    "        min_pixels= min_pixel,\n",
    "        max_pixels = max_pixel)\n",
    "messages = [\n",
    "    {\n",
    "        \"role\": \"user\",\n",
    "        \"content\": [\n",
    "            {\n",
    "                \"type\": \"image\",\n",
    "                \"image\": \"./chrome.png\",\n",
    "            },\n",
    "            {\"type\": \"text\", \"text\": \"Describe this image.\"},\n",
    "        ],\n",
    "    }\n",
    "]\n",
    "text = processor.apply_chat_template(\n",
    "    messages, tokenize=False, add_generation_prompt=True\n",
    ")\n",
    "image_inputs, video_inputs = process_vision_info(messages)\n",
    "inputs = processor(\n",
    "    text=[text],\n",
    "    images=image_inputs,\n",
    "    videos=video_inputs,\n",
    "    padding=True,\n",
    "    return_tensors=\"pt\",\n",
    ")\n",
    "inputs = inputs.to(device)"
   ]
  },
  {
   "cell_type": "code",
   "execution_count": 4,
   "metadata": {},
   "outputs": [
    {
     "name": "stdout",
     "output_type": "stream",
     "text": [
      "input_ids\n",
      "attention_mask\n",
      "patch_pos\n",
      "select_mask\n",
      "pixel_values\n",
      "image_grid_thw\n",
      "patch_assign\n",
      "patch_assign_sep\n",
      "patch_assign_len\n"
     ]
    }
   ],
   "source": [
    "for key in inputs.keys():\n",
    "    print(key)"
   ]
  },
  {
   "cell_type": "code",
   "execution_count": 5,
   "metadata": {},
   "outputs": [
    {
     "data": {
      "text/plain": [
       "tensor([[ 1, 46, 84]], device='cuda:2')"
      ]
     },
     "execution_count": 5,
     "metadata": {},
     "output_type": "execute_result"
    }
   ],
   "source": [
    "img_grid_thw = inputs['image_grid_thw']\n",
    "img_grid_thw # [bsz, heigh // patch_size // merge_size, width // patch_size // merge_size]"
   ]
  },
  {
   "cell_type": "code",
   "execution_count": 6,
   "metadata": {},
   "outputs": [
    {
     "data": {
      "text/plain": [
       "torch.Size([1, 980])"
      ]
     },
     "execution_count": 6,
     "metadata": {},
     "output_type": "execute_result"
    }
   ],
   "source": [
    "patch_pos = inputs['patch_pos']\n",
    "patch_pos.shape # [bsz, seq_len]"
   ]
  },
  {
   "cell_type": "code",
   "execution_count": 7,
   "metadata": {},
   "outputs": [
    {
     "data": {
      "text/plain": [
       "tensor(559, device='cuda:2')"
      ]
     },
     "execution_count": 7,
     "metadata": {},
     "output_type": "execute_result"
    }
   ],
   "source": [
    "select_mask = inputs['select_mask']\n",
    "select_mask.sum() # total selected tokens"
   ]
  },
  {
   "cell_type": "markdown",
   "metadata": {},
   "source": [
    "- Number of visual tokens"
   ]
  },
  {
   "cell_type": "code",
   "execution_count": 8,
   "metadata": {},
   "outputs": [
    {
     "name": "stdout",
     "output_type": "stream",
     "text": [
      "patch_assign shape : torch.Size([966])\n",
      "torch.Size([966])\n",
      "2691\n"
     ]
    }
   ],
   "source": [
    "patch_assign = inputs['patch_assign']\n",
    "print(f'patch_assign shape : {patch_assign.shape}') # [# visual tokens]\n",
    "\n",
    "# verify number of visual tokens \n",
    "patch_pos = inputs['patch_pos']\n",
    "print(patch_pos[patch_pos != -1].shape) # total visual tokens\n",
    "\n",
    "from PIL import Image\n",
    "img_path = './chrome.png'\n",
    "img = Image.open(img_path)\n",
    "# smart resize \n",
    "w, h = img.size\n",
    "# Function to find the nearest multiple of 28\n",
    "def nearest_multiple(value, base=28):\n",
    "    return round(value / base) * base\n",
    "\n",
    "# Compute the new dimensions\n",
    "new_w = nearest_multiple(w, 28)\n",
    "new_h = nearest_multiple(h, 28)\n",
    "print(new_w // 28 * new_h // 28) "
   ]
  },
  {
   "cell_type": "markdown",
   "metadata": {},
   "source": [
    "- Number of UI components"
   ]
  },
  {
   "cell_type": "code",
   "execution_count": 9,
   "metadata": {},
   "outputs": [
    {
     "data": {
      "text/plain": [
       "tensor([138], device='cuda:2')"
      ]
     },
     "execution_count": 9,
     "metadata": {},
     "output_type": "execute_result"
    }
   ],
   "source": [
    "patch_assign_len = inputs['patch_assign_len']\n",
    "patch_assign_len # total ui components"
   ]
  },
  {
   "cell_type": "markdown",
   "metadata": {},
   "source": [
    "# Model Generation"
   ]
  },
  {
   "cell_type": "code",
   "execution_count": 10,
   "metadata": {},
   "outputs": [
    {
     "name": "stderr",
     "output_type": "stream",
     "text": [
      "`Qwen2VLRotaryEmbedding` can now be fully parameterized by passing the model config through the `config` argument. All other arguments will be removed in v4.46\n"
     ]
    }
   ],
   "source": [
    "import torch\n",
    "model = Qwen2VLForConditionalGeneration.from_pretrained(\n",
    "    model_path, \n",
    "    torch_dtype = torch.bfloat16,\n",
    "    device_map = device).eval()"
   ]
  },
  {
   "cell_type": "code",
   "execution_count": 11,
   "metadata": {},
   "outputs": [
    {
     "name": "stdout",
     "output_type": "stream",
     "text": [
      "<|im_end|>\n"
     ]
    }
   ],
   "source": [
    "generated_ids = model.generate(**inputs, max_new_tokens=128, do_sample=True)\n",
    "\n",
    "generated_ids_trimmed = [\n",
    "    out_ids[len(in_ids) :] for in_ids, out_ids in zip(inputs.input_ids, generated_ids)\n",
    "]\n",
    "output_text = processor.batch_decode(\n",
    "    generated_ids_trimmed, \n",
    ")[0]\n",
    "\n",
    "print(output_text)"
   ]
  },
  {
   "cell_type": "code",
   "execution_count": null,
   "metadata": {},
   "outputs": [],
   "source": []
  }
 ],
 "metadata": {
  "kernelspec": {
   "display_name": "qwen2-showui",
   "language": "python",
   "name": "python3"
  },
  "language_info": {
   "codemirror_mode": {
    "name": "ipython",
    "version": 3
   },
   "file_extension": ".py",
   "mimetype": "text/x-python",
   "name": "python",
   "nbconvert_exporter": "python",
   "pygments_lexer": "ipython3",
   "version": "3.10.0"
  }
 },
 "nbformat": 4,
 "nbformat_minor": 2
}
