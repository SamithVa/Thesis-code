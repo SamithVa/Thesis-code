{
 "cells": [
  {
   "cell_type": "code",
   "execution_count": 1,
   "metadata": {
    "ExecuteTime": {
     "end_time": "2025-03-06T02:42:05.704025Z",
     "start_time": "2025-03-06T02:42:04.655354Z"
    }
   },
   "outputs": [],
   "source": [
    "from modeling_qwen2_vl import Qwen2VLForConditionalGeneration\n",
    "from processing_qwen2_vl import Qwen2VLProcessor\n",
    "# from configuration_qwen2_vl import Qwen2VLConfig\n",
    "# from transformers import Qwen2VLForConditionalGeneration, Qwen2VLProcessor\n",
    "from qwen_vl_utils import process_vision_info\n",
    "import time "
   ]
  },
  {
   "cell_type": "code",
   "execution_count": 2,
   "metadata": {},
   "outputs": [],
   "source": [
    "model_path = \"/data/data1/syc/intern/wanshan/models/Qwen2-VL-2B-Instruct\"\n",
    "# model_path = \"/data/data1/syc/intern/wanshan/models/showlab/ShowUI-2B_edited\"\n",
    "device = 'cuda:3'"
   ]
  },
  {
   "cell_type": "code",
   "execution_count": 33,
   "metadata": {},
   "outputs": [],
   "source": [
    "min_pixel = 256*28*28\n",
    "max_pixel = 1344*28*28\n",
    "import numpy\n",
    "# 1. Screenshot -> Graph\n",
    "uigraph_train = True        # Enable ui graph during training\n",
    "uigraph_test = True         # Enable ui graph during inference\n",
    "uigraph_diff = 1            # Pixel difference used for constructing ui graph\n",
    "uigraph_rand = False        # Enable random graph construction \n",
    "# 2. Graph -> Mask \n",
    "uimask_pre = True           # Prebuild patch selection mask in the preprocessor (not in model layers) for efficiency\n",
    "uimask_ratio = 0.8         # Specify the percentage of patch tokens to skip per component\n",
    "uimask_rand = False         # Enable random token selection instead of uniform selection"
   ]
  },
  {
   "cell_type": "code",
   "execution_count": 36,
   "metadata": {},
   "outputs": [
    {
     "data": {
      "text/plain": [
       "array([0. , 0.1, 0.2, 0.3, 0.4, 0.5, 0.6, 0.7, 0.8, 0.9])"
      ]
     },
     "execution_count": 36,
     "metadata": {},
     "output_type": "execute_result"
    }
   ],
   "source": [
    "ratios = numpy.arange(start=0, stop=1, step=0.1)\n",
    "visual_tokens = []\n",
    "ratios"
   ]
  },
  {
   "cell_type": "code",
   "execution_count": 45,
   "metadata": {},
   "outputs": [
    {
     "name": "stdout",
     "output_type": "stream",
     "text": [
      "0.0\n",
      "tensor(1296, device='cuda:3')\n",
      "0.1\n",
      "tensor(1184, device='cuda:3')\n",
      "0.2\n",
      "tensor(1067, device='cuda:3')\n",
      "0.30000000000000004\n",
      "tensor(951, device='cuda:3')\n",
      "0.4\n",
      "tensor(838, device='cuda:3')\n",
      "0.5\n",
      "tensor(721, device='cuda:3')\n",
      "0.6000000000000001\n",
      "tensor(608, device='cuda:3')\n",
      "0.7000000000000001\n",
      "tensor(495, device='cuda:3')\n",
      "0.8\n",
      "tensor(380, device='cuda:3')\n",
      "0.9\n",
      "tensor(268, device='cuda:3')\n"
     ]
    },
    {
     "ename": "",
     "evalue": "",
     "output_type": "error",
     "traceback": [
      "\u001b[1;31mThe Kernel crashed while executing code in the current cell or a previous cell. \n",
      "\u001b[1;31mPlease review the code in the cell(s) to identify a possible cause of the failure. \n",
      "\u001b[1;31mClick <a href='https://aka.ms/vscodeJupyterKernelCrash'>here</a> for more info. \n",
      "\u001b[1;31mView Jupyter <a href='command:jupyter.viewOutput'>log</a> for further details."
     ]
    }
   ],
   "source": [
    "\n",
    "for ratio in ratios:\n",
    "    print(ratio)\n",
    "    processor = Qwen2VLProcessor.from_pretrained(\n",
    "            model_path,\n",
    "            min_pixels= min_pixel,\n",
    "            max_pixels = max_pixel,\n",
    "            uigraph_train=uigraph_train, uigraph_test=uigraph_test, uigraph_diff=uigraph_diff, uigraph_rand=uigraph_rand,\n",
    "            uimask_pre=True, uimask_ratio=ratio, uimask_rand=uimask_rand,\n",
    "            use_fast = True\n",
    "        )\n",
    "\n",
    "    messages = [\n",
    "        {\n",
    "            \"role\": \"user\",\n",
    "            \"content\": [\n",
    "                {\n",
    "                    \"type\": \"image\",\n",
    "                    \"image\": \"./chrome.png\",\n",
    "                    \"min_pixels\": min_pixel,\n",
    "                    \"max_pixels\": max_pixel,\n",
    "                },\n",
    "                {\"type\": \"text\", \"text\": \"Describe this image.\"},\n",
    "            ],\n",
    "        }\n",
    "    ]\n",
    "    text = processor.apply_chat_template(\n",
    "        messages, tokenize=False, add_generation_prompt=True\n",
    "    )\n",
    "    image_inputs, video_inputs = process_vision_info(messages)\n",
    "\n",
    "    inputs = processor(\n",
    "        text=[text],\n",
    "        images=image_inputs,\n",
    "        videos=video_inputs,\n",
    "        padding=True,\n",
    "        return_tensors=\"pt\",\n",
    "        # vis_dir=\"./\" # this folder to save visualization \n",
    "    )\n",
    "    inputs = inputs.to(device)\n",
    "    vs_tokens = inputs['select_mask'].sum() - 25 # text tokens = 25\n",
    "    print(vs_tokens)\n",
    "    visual_tokens.append(vs_tokens)"
   ]
  },
  {
   "cell_type": "code",
   "execution_count": 42,
   "metadata": {},
   "outputs": [
    {
     "data": {
      "text/plain": [
       "25"
      ]
     },
     "execution_count": 42,
     "metadata": {},
     "output_type": "execute_result"
    }
   ],
   "source": [
    "1321 - 1296"
   ]
  },
  {
   "cell_type": "code",
   "execution_count": 41,
   "metadata": {},
   "outputs": [
    {
     "data": {
      "text/plain": [
       "torch.Size([1296])"
      ]
     },
     "execution_count": 41,
     "metadata": {},
     "output_type": "execute_result"
    }
   ],
   "source": [
    "inputs['patch_assign'].shape"
   ]
  },
  {
   "cell_type": "code",
   "execution_count": 39,
   "metadata": {},
   "outputs": [
    {
     "data": {
      "text/plain": [
       "[tensor(1321, device='cuda:3'),\n",
       " tensor(1209, device='cuda:3'),\n",
       " tensor(1092, device='cuda:3'),\n",
       " tensor(976, device='cuda:3'),\n",
       " tensor(863, device='cuda:3'),\n",
       " tensor(746, device='cuda:3'),\n",
       " tensor(633, device='cuda:3'),\n",
       " tensor(520, device='cuda:3'),\n",
       " tensor(405, device='cuda:3'),\n",
       " tensor(293, device='cuda:3'),\n",
       " tensor(1321, device='cuda:3'),\n",
       " tensor(1209, device='cuda:3')]"
      ]
     },
     "execution_count": 39,
     "metadata": {},
     "output_type": "execute_result"
    }
   ],
   "source": [
    "visual_tokens"
   ]
  },
  {
   "cell_type": "code",
   "execution_count": 22,
   "metadata": {},
   "outputs": [
    {
     "data": {
      "text/plain": [
       "tensor([[ 1, 54, 96]], device='cuda:3')"
      ]
     },
     "execution_count": 22,
     "metadata": {},
     "output_type": "execute_result"
    }
   ],
   "source": [
    "inputs.image_grid_thw"
   ]
  },
  {
   "cell_type": "code",
   "execution_count": 23,
   "metadata": {},
   "outputs": [
    {
     "data": {
      "text/plain": [
       "torch.Size([5184, 1176])"
      ]
     },
     "execution_count": 23,
     "metadata": {},
     "output_type": "execute_result"
    }
   ],
   "source": [
    "inputs.pixel_values.shape"
   ]
  },
  {
   "cell_type": "code",
   "execution_count": 24,
   "metadata": {},
   "outputs": [
    {
     "data": {
      "text/plain": [
       "tensor(405, device='cuda:3')"
      ]
     },
     "execution_count": 24,
     "metadata": {},
     "output_type": "execute_result"
    }
   ],
   "source": [
    "inputs['select_mask'].sum()"
   ]
  },
  {
   "cell_type": "code",
   "execution_count": 12,
   "metadata": {},
   "outputs": [
    {
     "name": "stdout",
     "output_type": "stream",
     "text": [
      "Qwen2VLProcessor:\n",
      "- image_processor: Qwen2VLImageProcessor {\n",
      "  \"do_convert_rgb\": true,\n",
      "  \"do_normalize\": true,\n",
      "  \"do_rescale\": true,\n",
      "  \"do_resize\": true,\n",
      "  \"image_mean\": [\n",
      "    0.48145466,\n",
      "    0.4578275,\n",
      "    0.40821073\n",
      "  ],\n",
      "  \"image_processor_type\": \"Qwen2VLImageProcessor\",\n",
      "  \"image_std\": [\n",
      "    0.26862954,\n",
      "    0.26130258,\n",
      "    0.27577711\n",
      "  ],\n",
      "  \"max_pixels\": 1053696,\n",
      "  \"merge_size\": 2,\n",
      "  \"min_pixels\": 200704,\n",
      "  \"patch_size\": 14,\n",
      "  \"processor_class\": \"Qwen2VLProcessor\",\n",
      "  \"resample\": 3,\n",
      "  \"rescale_factor\": 0.00392156862745098,\n",
      "  \"size\": {\n",
      "    \"longest_edge\": 12845056,\n",
      "    \"shortest_edge\": 3136\n",
      "  },\n",
      "  \"temporal_patch_size\": 2\n",
      "}\n",
      "\n",
      "- tokenizer: Qwen2TokenizerFast(name_or_path='/data/data1/syc/intern/wanshan/models/Qwen2-VL-2B-Instruct', vocab_size=151643, model_max_length=32768, is_fast=True, padding_side='left', truncation_side='right', special_tokens={'eos_token': '<|im_end|>', 'pad_token': '<|endoftext|>', 'additional_special_tokens': ['<|im_start|>', '<|im_end|>', '<|object_ref_start|>', '<|object_ref_end|>', '<|box_start|>', '<|box_end|>', '<|quad_start|>', '<|quad_end|>', '<|vision_start|>', '<|vision_end|>', '<|vision_pad|>', '<|image_pad|>', '<|video_pad|>']}, clean_up_tokenization_spaces=False, added_tokens_decoder={\n",
      "\t151643: AddedToken(\"<|endoftext|>\", rstrip=False, lstrip=False, single_word=False, normalized=False, special=True),\n",
      "\t151644: AddedToken(\"<|im_start|>\", rstrip=False, lstrip=False, single_word=False, normalized=False, special=True),\n",
      "\t151645: AddedToken(\"<|im_end|>\", rstrip=False, lstrip=False, single_word=False, normalized=False, special=True),\n",
      "\t151646: AddedToken(\"<|object_ref_start|>\", rstrip=False, lstrip=False, single_word=False, normalized=False, special=True),\n",
      "\t151647: AddedToken(\"<|object_ref_end|>\", rstrip=False, lstrip=False, single_word=False, normalized=False, special=True),\n",
      "\t151648: AddedToken(\"<|box_start|>\", rstrip=False, lstrip=False, single_word=False, normalized=False, special=True),\n",
      "\t151649: AddedToken(\"<|box_end|>\", rstrip=False, lstrip=False, single_word=False, normalized=False, special=True),\n",
      "\t151650: AddedToken(\"<|quad_start|>\", rstrip=False, lstrip=False, single_word=False, normalized=False, special=True),\n",
      "\t151651: AddedToken(\"<|quad_end|>\", rstrip=False, lstrip=False, single_word=False, normalized=False, special=True),\n",
      "\t151652: AddedToken(\"<|vision_start|>\", rstrip=False, lstrip=False, single_word=False, normalized=False, special=True),\n",
      "\t151653: AddedToken(\"<|vision_end|>\", rstrip=False, lstrip=False, single_word=False, normalized=False, special=True),\n",
      "\t151654: AddedToken(\"<|vision_pad|>\", rstrip=False, lstrip=False, single_word=False, normalized=False, special=True),\n",
      "\t151655: AddedToken(\"<|image_pad|>\", rstrip=False, lstrip=False, single_word=False, normalized=False, special=True),\n",
      "\t151656: AddedToken(\"<|video_pad|>\", rstrip=False, lstrip=False, single_word=False, normalized=False, special=True),\n",
      "}\n",
      ")\n",
      "\n",
      "{\n",
      "  \"processor_class\": \"Qwen2VLProcessor\"\n",
      "}\n",
      "\n"
     ]
    }
   ],
   "source": [
    "print(processor)"
   ]
  },
  {
   "cell_type": "code",
   "execution_count": 4,
   "metadata": {},
   "outputs": [
    {
     "data": {
      "text/plain": [
       "torch.Size([1, 1321])"
      ]
     },
     "execution_count": 4,
     "metadata": {},
     "output_type": "execute_result"
    }
   ],
   "source": [
    "inputs[\"patch_pos\"].shape"
   ]
  },
  {
   "cell_type": "code",
   "execution_count": 7,
   "metadata": {},
   "outputs": [
    {
     "name": "stdout",
     "output_type": "stream",
     "text": [
      "input_ids\n",
      "attention_mask\n",
      "patch_pos\n",
      "select_mask\n",
      "pixel_values\n",
      "image_grid_thw\n",
      "patch_assign\n",
      "patch_assign_sep\n",
      "patch_assign_len\n"
     ]
    }
   ],
   "source": [
    "for key in inputs.keys():\n",
    "    print(key)"
   ]
  },
  {
   "cell_type": "code",
   "execution_count": 8,
   "metadata": {},
   "outputs": [
    {
     "data": {
      "text/plain": [
       "tensor([[ 1, 54, 96]], device='cuda:2')"
      ]
     },
     "execution_count": 8,
     "metadata": {},
     "output_type": "execute_result"
    }
   ],
   "source": [
    "img_grid_thw = inputs['image_grid_thw']\n",
    "img_grid_thw # [bsz, heigh // patch_size // merge_size, width // patch_size // merge_size]"
   ]
  },
  {
   "cell_type": "code",
   "execution_count": 9,
   "metadata": {},
   "outputs": [
    {
     "data": {
      "text/plain": [
       "torch.Size([1, 1321])"
      ]
     },
     "execution_count": 9,
     "metadata": {},
     "output_type": "execute_result"
    }
   ],
   "source": [
    "patch_pos = inputs['patch_pos']\n",
    "patch_pos.shape # [bsz, seq_len]"
   ]
  },
  {
   "cell_type": "code",
   "execution_count": 10,
   "metadata": {},
   "outputs": [
    {
     "data": {
      "text/plain": [
       "tensor(746, device='cuda:2')"
      ]
     },
     "execution_count": 10,
     "metadata": {},
     "output_type": "execute_result"
    }
   ],
   "source": [
    "select_mask = inputs['select_mask']\n",
    "select_mask.sum() # total selected tokens"
   ]
  },
  {
   "cell_type": "markdown",
   "metadata": {},
   "source": [
    "- Number of visual tokens"
   ]
  },
  {
   "cell_type": "code",
   "execution_count": 11,
   "metadata": {},
   "outputs": [
    {
     "name": "stdout",
     "output_type": "stream",
     "text": [
      "patch_assign shape : torch.Size([1296])\n",
      "torch.Size([1296])\n",
      "2691\n"
     ]
    }
   ],
   "source": [
    "patch_assign = inputs['patch_assign']\n",
    "print(f'patch_assign shape : {patch_assign.shape}') # [# visual tokens]\n",
    "\n",
    "# verify number of visual tokens \n",
    "patch_pos = inputs['patch_pos']\n",
    "print(patch_pos[patch_pos != -1].shape) # total visual tokens\n",
    "\n",
    "from PIL import Image\n",
    "img_path = './chrome.png'\n",
    "img = Image.open(img_path)\n",
    "# smart resize \n",
    "w, h = img.size\n",
    "# Function to find the nearest multiple of 28\n",
    "def nearest_multiple(value, base=28):\n",
    "    return round(value / base) * base\n",
    "\n",
    "# Compute the new dimensions\n",
    "new_w = nearest_multiple(w, 28)\n",
    "new_h = nearest_multiple(h, 28)\n",
    "print(new_w // 28 * new_h // 28) "
   ]
  },
  {
   "cell_type": "markdown",
   "metadata": {},
   "source": [
    "- Number of UI components"
   ]
  },
  {
   "cell_type": "code",
   "execution_count": 12,
   "metadata": {},
   "outputs": [
    {
     "data": {
      "text/plain": [
       "tensor([167], device='cuda:2')"
      ]
     },
     "execution_count": 12,
     "metadata": {},
     "output_type": "execute_result"
    }
   ],
   "source": [
    "patch_assign_len = inputs['patch_assign_len']\n",
    "patch_assign_len # total ui components"
   ]
  },
  {
   "cell_type": "markdown",
   "metadata": {},
   "source": [
    "# Model Generation"
   ]
  },
  {
   "cell_type": "code",
   "execution_count": 13,
   "metadata": {},
   "outputs": [
    {
     "ename": "NameError",
     "evalue": "name 'Qwen2VLForConditionalGeneration' is not defined",
     "output_type": "error",
     "traceback": [
      "\u001b[0;31m---------------------------------------------------------------------------\u001b[0m",
      "\u001b[0;31mNameError\u001b[0m                                 Traceback (most recent call last)",
      "Cell \u001b[0;32mIn[13], line 2\u001b[0m\n\u001b[1;32m      1\u001b[0m \u001b[38;5;28;01mimport\u001b[39;00m\u001b[38;5;250m \u001b[39m\u001b[38;5;21;01mtorch\u001b[39;00m\n\u001b[0;32m----> 2\u001b[0m model \u001b[38;5;241m=\u001b[39m \u001b[43mQwen2VLForConditionalGeneration\u001b[49m\u001b[38;5;241m.\u001b[39mfrom_pretrained(\n\u001b[1;32m      3\u001b[0m     model_path, \n\u001b[1;32m      4\u001b[0m     torch_dtype \u001b[38;5;241m=\u001b[39m torch\u001b[38;5;241m.\u001b[39mbfloat16,\n\u001b[1;32m      5\u001b[0m     device_map \u001b[38;5;241m=\u001b[39m device)\u001b[38;5;241m.\u001b[39meval()\n",
      "\u001b[0;31mNameError\u001b[0m: name 'Qwen2VLForConditionalGeneration' is not defined"
     ]
    }
   ],
   "source": [
    "import torch\n",
    "model = Qwen2VLForConditionalGeneration.from_pretrained(\n",
    "    model_path, \n",
    "    torch_dtype = torch.bfloat16,\n",
    "    device_map = device).eval()"
   ]
  },
  {
   "cell_type": "code",
   "execution_count": 11,
   "metadata": {},
   "outputs": [
    {
     "name": "stdout",
     "output_type": "stream",
     "text": [
      "patch_pos torch.Size([1, 980])\n",
      "retain_mask tensor(559, device='cuda:2')\n",
      "patch_pos torch.Size([1, 980])\n",
      "retain_mask tensor(559, device='cuda:2')\n",
      "patch_pos torch.Size([1, 980])\n",
      "retain_mask tensor(559, device='cuda:2')\n",
      "patch_pos torch.Size([1, 980])\n",
      "retain_mask tensor(559, device='cuda:2')\n",
      "patch_pos torch.Size([1, 980])\n",
      "retain_mask tensor(559, device='cuda:2')\n",
      "patch_pos torch.Size([1, 980])\n",
      "retain_mask tensor(559, device='cuda:2')\n",
      "patch_pos torch.Size([1, 980])\n",
      "retain_mask tensor(559, device='cuda:2')\n",
      "patch_pos torch.Size([1, 980])\n",
      "retain_mask tensor(559, device='cuda:2')\n",
      "patch_pos torch.Size([1, 980])\n",
      "retain_mask tensor(559, device='cuda:2')\n",
      "patch_pos torch.Size([1, 980])\n",
      "retain_mask tensor(559, device='cuda:2')\n",
      "patch_pos torch.Size([1, 980])\n",
      "retain_mask tensor(559, device='cuda:2')\n",
      "patch_pos torch.Size([1, 980])\n",
      "retain_mask tensor(559, device='cuda:2')\n",
      "patch_pos torch.Size([1, 980])\n",
      "retain_mask tensor(559, device='cuda:2')\n",
      "patch_pos torch.Size([1, 980])\n",
      "retain_mask tensor(559, device='cuda:2')\n",
      "patch_pos torch.Size([1, 980])\n",
      "retain_mask tensor(559, device='cuda:2')\n",
      "patch_pos torch.Size([1, 980])\n",
      "retain_mask tensor(559, device='cuda:2')\n",
      "patch_pos torch.Size([1, 980])\n",
      "retain_mask tensor(559, device='cuda:2')\n",
      "patch_pos torch.Size([1, 980])\n",
      "retain_mask tensor(559, device='cuda:2')\n",
      "patch_pos torch.Size([1, 980])\n",
      "retain_mask tensor(559, device='cuda:2')\n",
      "patch_pos torch.Size([1, 980])\n",
      "retain_mask tensor(559, device='cuda:2')\n",
      "patch_pos torch.Size([1, 980])\n",
      "retain_mask tensor(559, device='cuda:2')\n",
      "patch_pos torch.Size([1, 980])\n",
      "retain_mask tensor(559, device='cuda:2')\n",
      "patch_pos torch.Size([1, 980])\n",
      "retain_mask tensor(559, device='cuda:2')\n",
      "patch_pos torch.Size([1, 980])\n",
      "retain_mask tensor(559, device='cuda:2')\n",
      "patch_pos torch.Size([1, 980])\n",
      "retain_mask tensor(559, device='cuda:2')\n",
      "patch_pos torch.Size([1, 980])\n",
      "retain_mask tensor(559, device='cuda:2')\n",
      "patch_pos torch.Size([1, 980])\n",
      "retain_mask tensor(559, device='cuda:2')\n",
      "patch_pos torch.Size([1, 980])\n",
      "retain_mask tensor(559, device='cuda:2')\n",
      "<|im_end|>\n"
     ]
    }
   ],
   "source": [
    "generated_ids = model.generate(**inputs, max_new_tokens=128, do_sample=True)\n",
    "\n",
    "generated_ids_trimmed = [\n",
    "    out_ids[len(in_ids) :] for in_ids, out_ids in zip(inputs.input_ids, generated_ids)\n",
    "]\n",
    "output_text = processor.batch_decode(\n",
    "    generated_ids_trimmed, \n",
    ")[0]\n",
    "\n",
    "print(output_text)"
   ]
  },
  {
   "cell_type": "code",
   "execution_count": null,
   "metadata": {},
   "outputs": [],
   "source": []
  }
 ],
 "metadata": {
  "kernelspec": {
   "display_name": "show-ui",
   "language": "python",
   "name": "python3"
  },
  "language_info": {
   "codemirror_mode": {
    "name": "ipython",
    "version": 3
   },
   "file_extension": ".py",
   "mimetype": "text/x-python",
   "name": "python",
   "nbconvert_exporter": "python",
   "pygments_lexer": "ipython3",
   "version": "3.10.0"
  }
 },
 "nbformat": 4,
 "nbformat_minor": 2
}
