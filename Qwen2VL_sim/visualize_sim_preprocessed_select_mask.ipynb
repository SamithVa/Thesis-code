{
 "cells": [
  {
   "cell_type": "code",
   "execution_count": 1,
   "metadata": {},
   "outputs": [],
   "source": [
    "import json\n",
    "import os\n",
    "import numpy as np\n",
    "import torch\n",
    "from PIL import Image, ImageDraw, ImageFont\n",
    "import ipywidgets as widgets\n",
    "from IPython.display import display, clear_output\n",
    "from model import Qwen2VLProcessor\n",
    "from qwen_vl_utils import process_vision_info  # adjust this import as needed\n"
   ]
  },
  {
   "cell_type": "code",
   "execution_count": 2,
   "metadata": {},
   "outputs": [],
   "source": [
    "\n",
    "# --- Configuration ---\n",
    "device      = 'cuda'\n",
    "model_path  = \"/home/syc/intern/wanshan/Qwen2VL-Resampler-Finetune/output/resampler_7b_retain_ratio_1\"\n",
    "# min_pixels  = 1344 * 28 * 28\n",
    "max_pixels  = 1680 * 28 * 28\n",
    "processor   = Qwen2VLProcessor.from_pretrained(model_path, max_pixels=max_pixels)\n",
    "vis_base    = \"./visualize_imgs\"\n",
    "os.makedirs(vis_base, exist_ok=True)\n",
    "\n",
    "json_path = \"/home/syc/intern/wanshan/llm/Qwen2VL_sim/screenspot_sim_qwen2vl-7b_max_pixels_1680-prune_layer-0-retain_ratio-0.9418-web.json\"\n",
    "# Load your precomputed masks JSON\n",
    "with open(json_path, \"r\") as f:\n",
    "    data = json.load(f)\n",
    "\n",
    "# State\n",
    "index = 0\n",
    "out = widgets.Output()\n"
   ]
  },
  {
   "cell_type": "code",
   "execution_count": 3,
   "metadata": {},
   "outputs": [
    {
     "data": {
      "text/plain": [
       "dict_keys(['img_path', 'text', 'bbox', 'pred', 'matched', 'response', 'type', 'source', 'select_mask'])"
      ]
     },
     "execution_count": 3,
     "metadata": {},
     "output_type": "execute_result"
    }
   ],
   "source": [
    "data[0].keys()"
   ]
  },
  {
   "cell_type": "code",
   "execution_count": 4,
   "metadata": {},
   "outputs": [
    {
     "data": {
      "text/plain": [
       "{'img_path': '/data/data1/syc/intern/wanshan/datasets/ScreenSpot/screenspot_imgs/web_213f816e-8e80-4d13-970d-1347bbc7a2a8.png',\n",
       " 'text': 'create a new project',\n",
       " 'bbox': [0.906640625, 0.08958333333333333, 0.987890625, 0.13819444444444445],\n",
       " 'pred': [0.95, 0.12],\n",
       " 'matched': True,\n",
       " 'response': '{\"action_type\": 4, \"click_point\": (0.95,0.12)}\\n',\n",
       " 'type': 'text',\n",
       " 'source': 'gitlab'}"
      ]
     },
     "execution_count": 4,
     "metadata": {},
     "output_type": "execute_result"
    }
   ],
   "source": [
    "naive_pred_json_path = \"/home/syc/intern/wanshan/Qwen2-VL/agent_tasks/ScreenSpot/sim_prunelayer_0-04-25/screenspot_sim_qwen2vl-7b_max_pixels_1680-prune_layer-0-retain_ratio-1.0-web.json\"\n",
    "\n",
    "with open(naive_pred_json_path, \"r\") as f:\n",
    "    naive_data = json.load(f)\n",
    "naive_data[0]"
   ]
  },
  {
   "cell_type": "code",
   "execution_count": 5,
   "metadata": {},
   "outputs": [
    {
     "data": {
      "application/vnd.jupyter.widget-view+json": {
       "model_id": "14a34c44070545dda9171ad3ab2950f2",
       "version_major": 2,
       "version_minor": 0
      },
      "text/plain": [
       "HTML(value='')"
      ]
     },
     "metadata": {},
     "output_type": "display_data"
    },
    {
     "data": {
      "application/vnd.jupyter.widget-view+json": {
       "model_id": "d32f782571054a4495e500a1017a34c3",
       "version_major": 2,
       "version_minor": 0
      },
      "text/plain": [
       "HBox(children=(Button(description='Previous', style=ButtonStyle()), Button(description='Next', style=ButtonSty…"
      ]
     },
     "metadata": {},
     "output_type": "display_data"
    },
    {
     "data": {
      "application/vnd.jupyter.widget-view+json": {
       "model_id": "dd390c85c3594dc0800a7b3924eec00f",
       "version_major": 2,
       "version_minor": 0
      },
      "text/plain": [
       "Output()"
      ]
     },
     "metadata": {},
     "output_type": "display_data"
    }
   ],
   "source": [
    "def show_instance(idx):\n",
    "    global last_annotated_img, last_save_path\n",
    "    inst = data[idx]\n",
    "    inst_no_selectmask = inst.copy()\n",
    "    inst_no_selectmask.pop(\"select_mask\", None)\n",
    "\n",
    "    naive_inst = naive_data[idx]\n",
    "\n",
    "    sentence_label.value = f\"**Naive:** {naive_inst} <br> **SIM:**{inst_no_selectmask}\"\n",
    "\n",
    "    # ——— 1) generate demo.png as you already have ———\n",
    "    messages = [{\n",
    "        \"role\": \"user\",\n",
    "        \"content\": [\n",
    "            {\"type\": \"image\", \"image\": inst[\"img_path\"]},\n",
    "            {\"type\": \"text\",  \"text\": inst[\"text\"]},\n",
    "        ],\n",
    "    }]\n",
    "    text = processor.apply_chat_template(\n",
    "        messages, tokenize=False, add_generation_prompt=True\n",
    "    )\n",
    "    image_inputs, video_inputs = process_vision_info(messages)\n",
    "    mask_np = np.array(inst[\"select_mask\"], dtype=bool)\n",
    "    vis_dir = os.path.join(vis_base, f\"inst_{idx:03d}\")\n",
    "    os.makedirs(vis_dir, exist_ok=True)\n",
    "    # this writes vis_dir/demo.png\n",
    "    processor(\n",
    "        text=[text],\n",
    "        images=image_inputs,\n",
    "        videos=video_inputs,\n",
    "        padding=True,\n",
    "        return_tensors=\"pt\",\n",
    "        select_mask=mask_np,\n",
    "        vis_dir=vis_dir\n",
    "    ).to(device)\n",
    "\n",
    "    # ——— 2) load demo.png and build top banner + annotation ———\n",
    "    img_path = os.path.join(vis_dir, \"demo.png\")\n",
    "    with out:\n",
    "        clear_output(wait=True)\n",
    "        if not os.path.exists(img_path):\n",
    "            display(widgets.HTML(f\"<b>Error:</b> no output in {vis_dir}\"))\n",
    "            return\n",
    "\n",
    "        # load original\n",
    "        img = Image.open(img_path).convert(\"RGB\")\n",
    "        w, h = img.size\n",
    "\n",
    "        # load font\n",
    "        try:\n",
    "            font = ImageFont.truetype(\n",
    "                \"/usr/share/fonts/truetype/noto/NotoSansSC-Regular.otf\", size=25\n",
    "            )\n",
    "        except IOError:\n",
    "            font = ImageFont.load_default(size=25)\n",
    "\n",
    "        # measure text\n",
    "        instruction = inst[\"text\"]\n",
    "        dummy = ImageDraw.Draw(img)\n",
    "        x0,y0,x1,y1 = dummy.textbbox((0,0), instruction, font=font)\n",
    "        text_w, text_h = x1-x0, y1-y0\n",
    "\n",
    "        # compute banner height\n",
    "        top_margin, bottom_margin = 5, 15\n",
    "        padding_top = top_margin + text_h + bottom_margin\n",
    "\n",
    "        # new canvas\n",
    "        new_img = Image.new(\"RGB\", (w, h + padding_top), \"white\")\n",
    "        new_img.paste(img, (0, padding_top))\n",
    "        draw = ImageDraw.Draw(new_img)\n",
    "\n",
    "        # draw instruction text centered\n",
    "        x_text = (w - text_w) / 2\n",
    "        y_text = top_margin\n",
    "\n",
    "        draw.text((x_text, y_text), instruction, font=font, fill=\"black\")\n",
    "\n",
    "        # helper to go from relative [0,1] to abs coords on new_img\n",
    "        def to_abs(rx, ry):\n",
    "            return rx * w, padding_top + ry * h\n",
    "\n",
    "        # draw ground-truth bbox\n",
    "        bx0, by0, bx1, by1 = inst[\"bbox\"]\n",
    "        ax0, ay0 = to_abs(bx0, by0)\n",
    "        ax1, ay1 = to_abs(bx1, by1)\n",
    "        draw.rectangle([ax0, ay0, ax1, ay1], outline=\"green\", width=3)\n",
    "\n",
    "        # draw naive click (blue)\n",
    "        nx, ny = naive_inst[\"pred\"]\n",
    "        cx, cy = to_abs(nx, ny)\n",
    "        r = 8\n",
    "        draw.ellipse([cx-r, cy-r, cx+r, cy+r], fill=\"blue\")\n",
    "\n",
    "        # draw SIM click (red)\n",
    "        px, py = inst[\"pred\"]\n",
    "        sx, sy = to_abs(px, py)\n",
    "        draw.ellipse([sx-r, sy-r, sx+r, sy+r], fill=\"red\")\n",
    "\n",
    "        # update for saving\n",
    "        last_annotated_img = new_img\n",
    "        last_save_path = os.path.join(vis_dir, \"demo_annotated.png\")\n",
    "\n",
    "        # display\n",
    "        display(new_img)\n",
    "        display(widgets.HTML(\n",
    "            f\"<b>Instance {idx+1}/{len(data)}:</b> {instruction}\"\n",
    "        ))\n",
    "\n",
    "def on_next(_):\n",
    "    global index\n",
    "    if index < len(data) - 1:\n",
    "        index += 1\n",
    "    show_instance(index)\n",
    "\n",
    "def on_prev(_):\n",
    "    global index\n",
    "    if index > 0:\n",
    "        index -= 1\n",
    "    show_instance(index)\n",
    "\n",
    "def on_save(_):\n",
    "    if last_annotated_img is not None and last_save_path:\n",
    "        last_annotated_img.save(last_save_path)\n",
    "        with out:\n",
    "            display(widgets.HTML(f\"<span style='color:green;'><b>Saved:</b> {last_save_path}</span>\"))\n",
    "\n",
    "# sentence_label \n",
    "sentence_label = widgets.HTML()\n",
    "\n",
    "# Create navigation and save buttons\n",
    "prev_btn = widgets.Button(description='Previous')\n",
    "next_btn = widgets.Button(description='Next')\n",
    "save_btn = widgets.Button(description='Save')\n",
    "\n",
    "prev_btn.on_click(on_prev)\n",
    "next_btn.on_click(on_next)\n",
    "save_btn.on_click(on_save)\n",
    "\n",
    "# Display UI\n",
    "\n",
    "display(sentence_label, widgets.HBox([prev_btn, next_btn, save_btn]))\n",
    "display(out)\n",
    "\n",
    "# Show the first instance\n",
    "show_instance(index)"
   ]
  },
  {
   "cell_type": "code",
   "execution_count": null,
   "metadata": {},
   "outputs": [],
   "source": [
    "16 22 34 35  "
   ]
  },
  {
   "cell_type": "code",
   "execution_count": null,
   "metadata": {},
   "outputs": [],
   "source": []
  }
 ],
 "metadata": {
  "kernelspec": {
   "display_name": "qwen2vl",
   "language": "python",
   "name": "python3"
  },
  "language_info": {
   "codemirror_mode": {
    "name": "ipython",
    "version": 3
   },
   "file_extension": ".py",
   "mimetype": "text/x-python",
   "name": "python",
   "nbconvert_exporter": "python",
   "pygments_lexer": "ipython3",
   "version": "3.10.0"
  }
 },
 "nbformat": 4,
 "nbformat_minor": 2
}
