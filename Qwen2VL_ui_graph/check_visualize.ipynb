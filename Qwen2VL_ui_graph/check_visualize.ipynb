{
 "cells": [
  {
   "cell_type": "code",
   "execution_count": 49,
   "metadata": {},
   "outputs": [],
   "source": [
    "import json\n",
    "import ipywidgets as widgets\n",
    "from IPython.display import display, Image\n",
    "import os\n",
    "from model.processing_qwen2_vl import Qwen2VLProcessor\n",
    "from qwen_vl_utils import process_vision_info\n",
    "import ast  # To safely evaluate JSON-like strings\n",
    "from PIL import Image, ImageDraw\n"
   ]
  },
  {
   "cell_type": "code",
   "execution_count": 74,
   "metadata": {},
   "outputs": [],
   "source": [
    "# Function to draw click point on image\n",
    "def draw_click_point(img_path, click_x, click_y, bbox, pred=False):\n",
    "    if os.path.exists(img_path):\n",
    "        img = Image.open(img_path)\n",
    "        w, h = img.size  # Get image dimensions\n",
    "        \n",
    "        # Convert relative to absolute coordinates\n",
    "        abs_x = int(click_x * w)\n",
    "        abs_y = int(click_y * h)\n",
    "        \n",
    "        # Draw the dot\n",
    "        draw = ImageDraw.Draw(img)\n",
    "        dot_radius = 10  # Adjust dot size if needed\n",
    "        draw.ellipse((abs_x - dot_radius, abs_y - dot_radius, abs_x + dot_radius, abs_y + dot_radius), fill=\"red\")\n",
    "\n",
    "        # Draw the bounding box (if exists)\n",
    "        if bbox:\n",
    "            bbox_x = bbox.get(\"x\", 0)\n",
    "            bbox_y = bbox.get(\"y\", 0)\n",
    "            bbox_w = bbox.get(\"width\", 0)\n",
    "            bbox_h = bbox.get(\"height\", 0)\n",
    "            \n",
    "            bbox_coords = [(bbox_x, bbox_y), (bbox_x + bbox_w, bbox_y + bbox_h)]\n",
    "            draw.rectangle(bbox_coords, outline=\"blue\", width=3)  # Blue bbox\n",
    "\n",
    "        # Save the modified image temporarily\n",
    "        if not pred:\n",
    "            temp_img_path = \"./visualize_imgs/image.png\"\n",
    "        else:\n",
    "            temp_img_path = \"./visualize_imgs/pred_image.png\"\n",
    "\n",
    "        img.save(temp_img_path)\n",
    "        # Return the new image path\n",
    "        return temp_img_path\n",
    "    else:\n",
    "        return None"
   ]
  },
  {
   "cell_type": "code",
   "execution_count": 75,
   "metadata": {},
   "outputs": [],
   "source": [
    "# Load JSON file\n",
    "json_file = \"/home/syc/intern/wanshan/Qwen2-VL/agent_tasks/Qwen2-VL-2B/qwen2vl_mind2web_website.json\"  # Change this to your JSON file path\n",
    "with open(json_file, \"r\", encoding=\"utf-8\") as f:\n",
    "    data = json.load(f)\n",
    "# Filter instances where Ele_match is False\n",
    "filtered_data = [\n",
    "    [step for step in episode] \n",
    "    for episode in data\n",
    "]\n",
    "\n",
    "# Initialize index\n",
    "episode_index = 0\n",
    "step_index = 0"
   ]
  },
  {
   "cell_type": "code",
   "execution_count": 76,
   "metadata": {},
   "outputs": [],
   "source": [
    "uigraph_json_path = \"/home/syc/intern/wanshan/Qwen2-VL/agent_tasks/Qwen2-VL_uigraph_inference_only/qwen2vl_uigraph_0.3_ratio_website.json\"  # Change this to your JSON file path\n",
    "with open(uigraph_json_path, \"r\", encoding=\"utf-8\") as f:\n",
    "    data = json.load(f)\n",
    "# Filter instances where Ele_match is False\n",
    "uigraph_data = [\n",
    "    [step for step in episode] \n",
    "    for episode in data\n",
    "]"
   ]
  },
  {
   "cell_type": "code",
   "execution_count": 77,
   "metadata": {},
   "outputs": [
    {
     "data": {
      "text/plain": [
       "(7, 7)"
      ]
     },
     "execution_count": 77,
     "metadata": {},
     "output_type": "execute_result"
    }
   ],
   "source": [
    "len(filtered_data[0]), len(uigraph_data[0])"
   ]
  },
  {
   "cell_type": "code",
   "execution_count": 78,
   "metadata": {},
   "outputs": [
    {
     "data": {
      "text/plain": [
       "{'x': 356.0, 'y': 461.0, 'width': 320.0, 'height': 34.0}"
      ]
     },
     "execution_count": 78,
     "metadata": {},
     "output_type": "execute_result"
    }
   ],
   "source": [
    "ground_truth_path = \"/data/data1/syc/intern/wanshan/mind2map_dataset/mind2web_data_test_website.json\"\n",
    "with open(ground_truth_path, \"r\", encoding=\"utf-8\") as f:\n",
    "    ground_truth_data = json.load(f)\n",
    "ground_truth = [\n",
    "    [step for step in episode['actions']] \n",
    "    for episode in ground_truth_data\n",
    "]\n",
    "ground_truth[0][0]['bbox']"
   ]
  },
  {
   "cell_type": "code",
   "execution_count": 79,
   "metadata": {},
   "outputs": [
    {
     "data": {
      "text/plain": [
       "[{'annot_id': '013781df-4391-4533-bcb1-15f6819064f6',\n",
       "  'img_path': '/data/data1/syc/intern/wanshan/mind2map_dataset/mind2web_images/013781df-4391-4533-bcb1-15f6819064f6-79c4a963-4aa9-49c1-9257-6b0d5069c551.jpg',\n",
       "  'instruction': 'What are the romantic reggae musics from BCD Studio that can be used in tik tok series in andorra',\n",
       "  'sentence': ['{\"action_type\": 4, \"click_point\": (0.09,0.78)}'],\n",
       "  'Op_match': True,\n",
       "  'Ele_match': False,\n",
       "  'Op_F1': [1.0, 4]},\n",
       " {'annot_id': '013781df-4391-4533-bcb1-15f6819064f6',\n",
       "  'img_path': '/data/data1/syc/intern/wanshan/mind2map_dataset/mind2web_images/013781df-4391-4533-bcb1-15f6819064f6-7da11b14-b652-4507-8d50-ad7515c9e455.jpg',\n",
       "  'instruction': 'What are the romantic reggae musics from BCD Studio that can be used in tik tok series in andorra',\n",
       "  'sentence': ['{\"action_type\": 4, \"click_point\": (0.31,0.40)}'],\n",
       "  'Op_match': True,\n",
       "  'Ele_match': True,\n",
       "  'Op_F1': [1.0, 4]},\n",
       " {'annot_id': '013781df-4391-4533-bcb1-15f6819064f6',\n",
       "  'img_path': '/data/data1/syc/intern/wanshan/mind2map_dataset/mind2web_images/013781df-4391-4533-bcb1-15f6819064f6-e4dda2e2-0b2e-4094-a3e7-79273cdd394c.jpg',\n",
       "  'instruction': 'What are the romantic reggae musics from BCD Studio that can be used in tik tok series in andorra',\n",
       "  'sentence': ['{\"action_type\": 4, \"click_point\": (0.09,0.79)}'],\n",
       "  'Op_match': True,\n",
       "  'Ele_match': True,\n",
       "  'Op_F1': [1.0, 4]},\n",
       " {'annot_id': '013781df-4391-4533-bcb1-15f6819064f6',\n",
       "  'img_path': '/data/data1/syc/intern/wanshan/mind2map_dataset/mind2web_images/013781df-4391-4533-bcb1-15f6819064f6-d74f1666-d89e-4884-9063-1e9535ffcd1e.jpg',\n",
       "  'instruction': 'What are the romantic reggae musics from BCD Studio that can be used in tik tok series in andorra',\n",
       "  'sentence': ['{\"action_type\": 4, \"click_point\": (0.09,0.87)}'],\n",
       "  'Op_match': True,\n",
       "  'Ele_match': False,\n",
       "  'Op_F1': [1.0, 4]},\n",
       " {'annot_id': '013781df-4391-4533-bcb1-15f6819064f6',\n",
       "  'img_path': '/data/data1/syc/intern/wanshan/mind2map_dataset/mind2web_images/013781df-4391-4533-bcb1-15f6819064f6-2fec05ca-7da4-425d-a4bc-351d7f8770f4.jpg',\n",
       "  'instruction': 'What are the romantic reggae musics from BCD Studio that can be used in tik tok series in andorra',\n",
       "  'sentence': ['{\"action_type\": 4, \"click_point\": (0.08,0.38)}'],\n",
       "  'Op_match': True,\n",
       "  'Ele_match': True,\n",
       "  'Op_F1': [1.0, 4]},\n",
       " {'annot_id': '013781df-4391-4533-bcb1-15f6819064f6',\n",
       "  'img_path': '/data/data1/syc/intern/wanshan/mind2map_dataset/mind2web_images/013781df-4391-4533-bcb1-15f6819064f6-b426db75-05bc-4386-ada0-0d5754bf22c1.jpg',\n",
       "  'instruction': 'What are the romantic reggae musics from BCD Studio that can be used in tik tok series in andorra',\n",
       "  'sentence': ['{\"action_type\": 4, \"click_point\": (0.85,0.87)}'],\n",
       "  'Op_match': False,\n",
       "  'Ele_match': False,\n",
       "  'Op_F1': [0, 3]},\n",
       " {'annot_id': '013781df-4391-4533-bcb1-15f6819064f6',\n",
       "  'img_path': '/data/data1/syc/intern/wanshan/mind2map_dataset/mind2web_images/013781df-4391-4533-bcb1-15f6819064f6-a2515d7e-cf4c-4a41-bf9d-268df1780a63.jpg',\n",
       "  'instruction': 'What are the romantic reggae musics from BCD Studio that can be used in tik tok series in andorra',\n",
       "  'sentence': ['{\"action_type\": 4, \"click_point\": (0.89,0.69)}'],\n",
       "  'Op_match': True,\n",
       "  'Ele_match': False,\n",
       "  'Op_F1': [1.0, 4]}]"
      ]
     },
     "execution_count": 79,
     "metadata": {},
     "output_type": "execute_result"
    }
   ],
   "source": [
    "filtered_data[0]"
   ]
  },
  {
   "cell_type": "code",
   "execution_count": 80,
   "metadata": {},
   "outputs": [],
   "source": [
    "navigation_sequence  = []\n",
    "for episode_idx, episode in enumerate(filtered_data):\n",
    "    for step_idx, step in enumerate(episode):\n",
    "        if step['Ele_match'] == True and uigraph_data[episode_idx][step_idx]['Ele_match'] == False:\n",
    "            navigation_sequence.append((episode_idx, step_idx))\n",
    "sequence_index = 0"
   ]
  },
  {
   "cell_type": "code",
   "execution_count": 83,
   "metadata": {},
   "outputs": [],
   "source": [
    "model_path = \"/data/data1/syc/intern/wanshan/models/Qwen2-VL-2B-Instruct\"\n",
    "# model_path = \"/data/data1/syc/intern/wanshan/models/showlab/ShowUI-2B_edited\"\n",
    "\n",
    "min_pixel = 256*28*28\n",
    "max_pixel = 1344*28*28\n",
    "# 1. Screenshot -> Graph\n",
    "uigraph_train = True        # Enable ui graph during training\n",
    "uigraph_test = True         # Enable ui graph during inference\n",
    "uigraph_diff = 1            # Pixel difference used for constructing ui graph\n",
    "uigraph_rand = False        # Enable random graph construction \n",
    "# 2. Graph -> Mask \n",
    "uimask_pre = True           # Prebuild patch selection mask in the preprocessor (not in model layers) for efficiency\n",
    "uimask_ratio = 0.3         # Specify the percentage of patch tokens to skip per component\n",
    "uimask_rand = False         # Enable random token selection instead of uniform selection\n",
    "\n",
    "\n",
    "processor = Qwen2VLProcessor.from_pretrained(\n",
    "        model_path,\n",
    "        min_pixels= min_pixel,\n",
    "        max_pixels = max_pixel,\n",
    "        uigraph_train=uigraph_train, uigraph_test=uigraph_test, uigraph_diff=uigraph_diff, uigraph_rand=uigraph_rand,\n",
    "        uimask_pre=True, uimask_ratio=uimask_ratio, uimask_rand=uimask_rand,\n",
    ")\n"
   ]
  },
  {
   "cell_type": "code",
   "execution_count": 84,
   "metadata": {},
   "outputs": [],
   "source": [
    "def load_visualize(image_path):\n",
    "    messages = [\n",
    "    {\n",
    "        \"role\": \"user\",\n",
    "        \"content\": [\n",
    "            {\n",
    "                \"type\": \"image\",\n",
    "                \"image\": image_path,\n",
    "                \"min_pixels\": min_pixel,\n",
    "                \"max_pixels\": max_pixel,\n",
    "            },\n",
    "            {\"type\": \"text\", \"text\": \"Describe this image.\"},\n",
    "        ],\n",
    "    }\n",
    "    ]\n",
    "    text = processor.apply_chat_template(\n",
    "        messages, tokenize=False, add_generation_prompt=True\n",
    "    )\n",
    "    image_inputs, _ = process_vision_info(messages)\n",
    "\n",
    "    inputs = processor(\n",
    "        text=[text],\n",
    "        images=image_inputs,\n",
    "        padding=True,\n",
    "        return_tensors=\"pt\",\n",
    "        vis_dir=\"./visualize_imgs\" # this folder to save visualization \n",
    "    )\n",
    "    with open(\"./visualize_imgs/demo.png\", \"rb\") as f:\n",
    "        return f.read()"
   ]
  },
  {
   "cell_type": "code",
   "execution_count": 90,
   "metadata": {},
   "outputs": [
    {
     "data": {
      "application/vnd.jupyter.widget-view+json": {
       "model_id": "3f2a2d00a7eb4057aeb643098f80cc1d",
       "version_major": 2,
       "version_minor": 0
      },
      "text/plain": [
       "HTML(value='**Action(s):** {\\'annot_id\\': \\'802babc8-fd6c-4e8b-bab2-0bdc0a03d129\\', \\'img_path\\': \\'/data/data…"
      ]
     },
     "metadata": {},
     "output_type": "display_data"
    },
    {
     "data": {
      "application/vnd.jupyter.widget-view+json": {
       "model_id": "1eb4a418443c44c8a9ac3b8d59d8c399",
       "version_major": 2,
       "version_minor": 0
      },
      "text/plain": [
       "HTML(value='**UI Graph Action(s):** {\\'annot_id\\': \\'802babc8-fd6c-4e8b-bab2-0bdc0a03d129\\', \\'img_path\\': \\'/…"
      ]
     },
     "metadata": {},
     "output_type": "display_data"
    },
    {
     "data": {
      "application/vnd.jupyter.widget-view+json": {
       "model_id": "a904a7819b5e484ea848b464a84b46e2",
       "version_major": 2,
       "version_minor": 0
      },
      "text/plain": [
       "HBox(children=(Image(value=b'\\x89PNG\\r\\n\\x1a\\n\\x00\\x00\\x00\\rIHDR\\x00\\x00\\x05\\x00\\x00\\x00\\x02\\xd0\\x08\\x02\\x00\\x…"
      ]
     },
     "metadata": {},
     "output_type": "display_data"
    },
    {
     "data": {
      "application/vnd.jupyter.widget-view+json": {
       "model_id": "3daad47be65249a4a7a57921c3e12487",
       "version_major": 2,
       "version_minor": 0
      },
      "text/plain": [
       "Image(value=b'\\x89PNG\\r\\n\\x1a\\n\\x00\\x00\\x00\\rIHDR\\x00\\x00\\x05\\x08\\x00\\x00\\x02\\xd8\\x08\\x02\\x00\\x00\\x00\\xbf\\x9b\\…"
      ]
     },
     "metadata": {},
     "output_type": "display_data"
    },
    {
     "data": {
      "application/vnd.jupyter.widget-view+json": {
       "model_id": "bb6b533c3e1b4e968f5e91273525054d",
       "version_major": 2,
       "version_minor": 0
      },
      "text/plain": [
       "Button(description='Next Step', style=ButtonStyle())"
      ]
     },
     "metadata": {},
     "output_type": "display_data"
    }
   ],
   "source": [
    "\n",
    "# Function to update display\n",
    "def update_display():\n",
    "    global sequence_index\n",
    "    \n",
    "    if sequence_index < len(navigation_sequence):\n",
    "        episode_index, step_index = navigation_sequence[sequence_index]\n",
    "        episode = filtered_data[episode_index]\n",
    "        episode_uigraph = uigraph_data[episode_index]\n",
    "        episode_ref = ground_truth[episode_index]\n",
    "\n",
    "        if step_index < len(episode):\n",
    "            step = episode[step_index]\n",
    "            step_uigraph =  episode_uigraph[step_index]\n",
    "            step_ref = episode_ref[step_index]\n",
    "            \n",
    "            # Extract sentence (convert list of JSON strings into readable text)\n",
    "            # sentence_text = \"\\n\".join(step[\"sentence\"])\n",
    "            \n",
    "            # Update instruction and sentence\n",
    "            # instruction_label.value = f\"**Instruction:** {step['instruction']}\"\n",
    "            sentence_label.value = f\"**Action(s):** {step}\"\n",
    "            sentece_uigraph_label.value = f\"**UI Graph Action(s):** {step_uigraph}\"\n",
    "            # Extract click coordinates\n",
    "            try:\n",
    "                action_data = ast.literal_eval(step[\"sentence\"][0])  # Convert string to dict\n",
    "                click_x, click_y = action_data.get(\"click_point\", (0, 0))\n",
    "\n",
    "                action_data_uigraph = ast.literal_eval(step_uigraph[\"sentence\"][0])  # Convert string to dict\n",
    "                uigraph_click_x, uigraph_click_y = action_data_uigraph.get(\"click_point\", (0, 0))\n",
    "            except Exception as e:\n",
    "                click_x, click_y = 0, 0  # Default to top-left corner on error\n",
    "\n",
    "            # get bbox from groundtruth\n",
    "            bbox = step_ref['bbox']\n",
    "            \n",
    "            # Load and update image\n",
    "            img_path = step[\"img_path\"]\n",
    "            img_pred_path = step_uigraph[\"img_path\"]\n",
    "            \n",
    "            modified_img_path = draw_click_point(img_path, click_x, click_y, bbox)\n",
    "            modified_img_pred_path = draw_click_point(img_path, uigraph_click_x, uigraph_click_y, bbox, pred=True)\n",
    "            if os.path.exists(img_path):\n",
    "                with open(modified_img_path, \"rb\") as f:\n",
    "                    image_widget.value = f.read()\n",
    "                with open(modified_img_pred_path, \"rb\") as f:\n",
    "                    image_pred.value = f.read()\n",
    "                image_patch.value = load_visualize(img_path)\n",
    "            else:\n",
    "                sentence_label.value += f\"\\n(Error: Image not found at {img_path})\"\n",
    "        else:\n",
    "            sentence_label.value = \"No more steps in this episode.\"\n",
    "            image_widget.value = b\"\"\n",
    "    else:\n",
    "        # instruction_label.value = \"No more episodes.\"\n",
    "        sentence_label.value = \"\"\n",
    "        image_widget.value = b\"\"\n",
    "\n",
    "# Next button function\n",
    "def next_step(_):\n",
    "    global sequence_index\n",
    "    \n",
    "    # Move to the next item in the navigation sequence\n",
    "    if sequence_index < len(navigation_sequence) - 1:\n",
    "        sequence_index += 1\n",
    "        update_display()\n",
    "\n",
    "\n",
    "    update_display()\n",
    "\n",
    "# Widgets\n",
    "# instruction_label = widgets.HTML()\n",
    "sentence_label = widgets.HTML()\n",
    "sentece_uigraph_label = widgets.HTML()\n",
    "image_widget = widgets.Image(format='png', width=600)  # Set Image Size\n",
    "image_pred = widgets.Image(format='png', width=600)\n",
    "image_patch = widgets.Image(format='png', width=600)  # Set Image Size\n",
    "\n",
    "# Layout to show images side by side\n",
    "image_box = widgets.HBox([image_widget, image_pred])  # Side-by-side\n",
    "\n",
    "\n",
    "next_button = widgets.Button(description=\"Next Step\")\n",
    "next_button.on_click(next_step)\n",
    "\n",
    "# Initial display\n",
    "update_display()\n",
    "\n",
    "# Layout\n",
    "display(sentence_label, sentece_uigraph_label,  image_box, image_patch, next_button)"
   ]
  },
  {
   "cell_type": "code",
   "execution_count": null,
   "metadata": {},
   "outputs": [],
   "source": []
  }
 ],
 "metadata": {
  "kernelspec": {
   "display_name": "qwen2vl",
   "language": "python",
   "name": "python3"
  },
  "language_info": {
   "codemirror_mode": {
    "name": "ipython",
    "version": 3
   },
   "file_extension": ".py",
   "mimetype": "text/x-python",
   "name": "python",
   "nbconvert_exporter": "python",
   "pygments_lexer": "ipython3",
   "version": "3.10.0"
  }
 },
 "nbformat": 4,
 "nbformat_minor": 2
}
