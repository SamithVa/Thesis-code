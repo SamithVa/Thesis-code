{
 "cells": [
  {
   "cell_type": "code",
   "execution_count": 1,
   "metadata": {
    "ExecuteTime": {
     "end_time": "2025-03-06T02:42:05.704025Z",
     "start_time": "2025-03-06T02:42:04.655354Z"
    }
   },
   "outputs": [],
   "source": [
    "from model_edited.modeling_qwen2_vl import Qwen2VLForConditionalGeneration\n",
    "from model_edited.processing_qwen2_vl import Qwen2VLProcessor\n",
    "# from configuration_qwen2_vl import Qwen2VLConfig\n",
    "# from transformers import Qwen2VLForConditionalGeneration, Qwen2VLProcessor\n",
    "from qwen_vl_utils import process_vision_info\n",
    "import time "
   ]
  },
  {
   "cell_type": "code",
   "execution_count": 2,
   "metadata": {},
   "outputs": [],
   "source": [
    "model_path = \"/data/data1/syc/intern/wanshan/models/Qwen2-VL-2B-Instruct\"\n",
    "\n",
    "device = 'cuda:3'"
   ]
  },
  {
   "cell_type": "code",
   "execution_count": 3,
   "metadata": {},
   "outputs": [],
   "source": [
    "min_pixel = 1344*28*28\n",
    "max_pixel = 1680*28*28\n",
    "# 1. Screenshot -> Graph\n",
    "uigraph_train = True        # Enable ui graph during training\n",
    "uigraph_test = True         # Enable ui graph during inference\n",
    "uigraph_diff = 1            # Pixel difference used for constructing ui graph\n",
    "uigraph_rand = False        # Enable random graph construction \n",
    "# 2. Graph -> Mask \n",
    "uimask_pre = True           # Prebuild patch selection mask in the preprocessor (not in model layers) for efficiency\n",
    "uimask_ratio = 0.8         # Specify the percentage of patch tokens to skip per component\n",
    "uimask_rand = False         # Enable random token selection instead of uniform selection"
   ]
  },
  {
   "cell_type": "code",
   "execution_count": 4,
   "metadata": {},
   "outputs": [],
   "source": [
    "processor = Qwen2VLProcessor.from_pretrained(\n",
    "        model_path,\n",
    "        min_pixels= min_pixel,\n",
    "        max_pixels = max_pixel,\n",
    "        uigraph_train=uigraph_train, uigraph_test=uigraph_test, uigraph_diff=uigraph_diff, uigraph_rand=uigraph_rand,\n",
    "        uimask_pre=True, uimask_ratio=uimask_ratio, uimask_rand=uimask_rand,\n",
    "        use_fast = True\n",
    "    )\n",
    "\n",
    "messages = [\n",
    "    {\n",
    "        \"role\": \"user\",\n",
    "        \"content\": [\n",
    "            {\n",
    "                \"type\": \"image\",\n",
    "                \"image\": \"./chrome.png\",\n",
    "                \"min_pixels\": min_pixel,\n",
    "                \"max_pixels\": max_pixel,\n",
    "            },\n",
    "            {\"type\": \"text\", \"text\": \"Describe this image.\"},\n",
    "        ],\n",
    "    }\n",
    "]\n",
    "text = processor.apply_chat_template(\n",
    "    messages, tokenize=False, add_generation_prompt=True\n",
    ")\n",
    "image_inputs, video_inputs = process_vision_info(messages)\n",
    "\n",
    "inputs = processor(\n",
    "    text=[text],\n",
    "    images=image_inputs,\n",
    "    videos=video_inputs,\n",
    "    padding=True,\n",
    "    return_tensors=\"pt\",\n",
    "    # vis_dir=\"./visualize_imgs\" # this folder to save visualization \n",
    ").to(device)\n"
   ]
  },
  {
   "cell_type": "markdown",
   "metadata": {},
   "source": [
    "# Model Generation"
   ]
  },
  {
   "cell_type": "code",
   "execution_count": 5,
   "metadata": {},
   "outputs": [],
   "source": [
    "import re \n",
    "def parse_layer_type(str_ranges, L=28, default=0):\n",
    "    # 0 is without layer token selection, 1 is with layer token selection. Below we provide examples:\n",
    "    # [1,28,1] means that all LM layers use token selection; [1,28,0] means that do not.\n",
    "    # Interleaved layer-wise '[2,2,1],[4,4,1],[6,6,1],[8,8,1],[10,10,1],[12,12,1],[14,14,1],[16,16,1],[18,18,1],[20,20,1],[22,22,1],[24,24,1],[26,26,1]'\n",
    "    result = [default] * L\n",
    "    matches = re.findall(r\"\\[\\s*(\\d+)\\s*,\\s*(\\d+)\\s*,\\s*(\\d+)\\s*\\]\", str_ranges)\n",
    "    for start, end, value in matches:\n",
    "        start, end, value = int(start) - 1, int(end) - 1, int(value)\n",
    "        if end >= L:\n",
    "            end = L - 1\n",
    "        result[start : end + 1] = [value] * (end - start + 1)\n",
    "    return result\n"
   ]
  },
  {
   "cell_type": "code",
   "execution_count": 6,
   "metadata": {},
   "outputs": [
    {
     "name": "stderr",
     "output_type": "stream",
     "text": [
      "`Qwen2VLRotaryEmbedding` can now be fully parameterized by passing the model config through the `config` argument. All other arguments will be removed in v4.46\n"
     ]
    },
    {
     "data": {
      "application/vnd.jupyter.widget-view+json": {
       "model_id": "4b110d0da57c4c8a8fb61f2e6a9e4cf2",
       "version_major": 2,
       "version_minor": 0
      },
      "text/plain": [
       "Loading checkpoint shards:   0%|          | 0/2 [00:00<?, ?it/s]"
      ]
     },
     "metadata": {},
     "output_type": "display_data"
    }
   ],
   "source": [
    "import torch\n",
    "model = Qwen2VLForConditionalGeneration.from_pretrained(\n",
    "    model_path, \n",
    "    torch_dtype = torch.bfloat16,\n",
    "    attn_implementation=\"flash_attention_2\",\n",
    "    lm_skip_layer=parse_layer_type(\"[1,28,0]\"),\n",
    "    lm_skip_ratio=0.2,\n",
    "    device_map = device,\n",
    "    prune_layer = 2\n",
    ").eval()"
   ]
  },
  {
   "cell_type": "code",
   "execution_count": null,
   "metadata": {},
   "outputs": [
    {
     "name": "stdout",
     "output_type": "stream",
     "text": [
      "The image shows a screenshot of the Google Chrome browser interface. Here are the details:\n",
      "\n",
      "1. **Header**: The top of the screen displays the Google Chrome logo, which is a blue and yellow \"G\" in the center.\n",
      "2. **Search Bar**: Below the logo, there is a search bar with the placeholder text \"Search Google or type a URL.\" The search bar is divided into two sections: the left section contains the placeholder text, and the right section has a magnifying glass icon and a plus sign, indicating the ability to add a new tab or search.\n",
      "3. **Navigation Bar**: At the top right corner,\n"
     ]
    }
   ],
   "source": [
    "import time\n",
    "with torch.no_grad():\n",
    "\n",
    "    generated_ids = model.generate(**inputs, max_new_tokens=128, do_sample=True)\n",
    "\n",
    "generated_ids_trimmed = [\n",
    "    out_ids[len(in_ids) :] for in_ids, out_ids in zip(inputs.input_ids, generated_ids)\n",
    "]\n",
    "output_text = processor.batch_decode(\n",
    "    generated_ids_trimmed, \n",
    ")[0]\n",
    "\n",
    "print(output_text)"
   ]
  }
 ],
 "metadata": {
  "kernelspec": {
   "display_name": "qwen2vl",
   "language": "python",
   "name": "python3"
  },
  "language_info": {
   "codemirror_mode": {
    "name": "ipython",
    "version": 3
   },
   "file_extension": ".py",
   "mimetype": "text/x-python",
   "name": "python",
   "nbconvert_exporter": "python",
   "pygments_lexer": "ipython3",
   "version": "3.10.0"
  }
 },
 "nbformat": 4,
 "nbformat_minor": 2
}
